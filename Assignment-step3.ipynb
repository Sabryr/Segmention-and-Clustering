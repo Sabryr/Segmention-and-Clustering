{
 "cells": [
  {
   "cell_type": "markdown",
   "metadata": {},
   "source": [
    "## Segmenting and Clustering Neighborhoods\n",
    "----------------------------------"
   ]
  },
  {
   "cell_type": "markdown",
   "metadata": {},
   "source": [
    "### Step 1"
   ]
  },
  {
   "cell_type": "code",
   "execution_count": 2,
   "metadata": {},
   "outputs": [
    {
     "name": "stdout",
     "output_type": "stream",
     "text": [
      "/home/anaconda/juyter/6.0.3/lib/python3.8/site-packages/lxml/__init__.py\n",
      "/home/anaconda/juyter/6.0.3/lib/python3.8/site-packages/folium/__init__.py\n"
     ]
    }
   ],
   "source": [
    "#!conda install -y lxml\n",
    "#!conda install -y  -c conda-forge geocoder \n",
    "#!conda install -y  -c conda-forge folium\n",
    "import pandas as pd\n",
    "import lxml\n",
    "import geocoder\n",
    "import folium\n",
    "print(lxml.__file__)\n",
    "print(folium.__file__)\n"
   ]
  },
  {
   "cell_type": "code",
   "execution_count": 3,
   "metadata": {},
   "outputs": [
    {
     "name": "stdout",
     "output_type": "stream",
     "text": [
      "https://en.wikipedia.org/wiki/List_of_postal_codes_of_Canada:_M\n"
     ]
    }
   ],
   "source": [
    "#Data URL\n",
    "data_url=\"https://en.wikipedia.org/wiki/List_of_postal_codes_of_Canada:_M\"\n",
    "print(data_url)"
   ]
  },
  {
   "cell_type": "code",
   "execution_count": 4,
   "metadata": {},
   "outputs": [
    {
     "name": "stdout",
     "output_type": "stream",
     "text": [
      "3\n"
     ]
    },
    {
     "data": {
      "text/plain": [
       "Index(['Postal Code', 'Borough', 'Neighbourhood'], dtype='object')"
      ]
     },
     "execution_count": 4,
     "metadata": {},
     "output_type": "execute_result"
    }
   ],
   "source": [
    "#Read to panda dataframe\n",
    "df = pd.read_html(data_url)\n",
    "print(len(df))\n",
    "df[0].keys()"
   ]
  },
  {
   "cell_type": "code",
   "execution_count": 6,
   "metadata": {},
   "outputs": [
    {
     "data": {
      "text/html": [
       "<div>\n",
       "<style scoped>\n",
       "    .dataframe tbody tr th:only-of-type {\n",
       "        vertical-align: middle;\n",
       "    }\n",
       "\n",
       "    .dataframe tbody tr th {\n",
       "        vertical-align: top;\n",
       "    }\n",
       "\n",
       "    .dataframe thead th {\n",
       "        text-align: right;\n",
       "    }\n",
       "</style>\n",
       "<table border=\"1\" class=\"dataframe\">\n",
       "  <thead>\n",
       "    <tr style=\"text-align: right;\">\n",
       "      <th></th>\n",
       "      <th>PostalCode</th>\n",
       "      <th>Borough</th>\n",
       "      <th>Neighbourhood</th>\n",
       "    </tr>\n",
       "  </thead>\n",
       "  <tbody>\n",
       "    <tr>\n",
       "      <th>0</th>\n",
       "      <td>M1A</td>\n",
       "      <td>Not assigned</td>\n",
       "      <td>Not assigned</td>\n",
       "    </tr>\n",
       "    <tr>\n",
       "      <th>1</th>\n",
       "      <td>M2A</td>\n",
       "      <td>Not assigned</td>\n",
       "      <td>Not assigned</td>\n",
       "    </tr>\n",
       "    <tr>\n",
       "      <th>2</th>\n",
       "      <td>M3A</td>\n",
       "      <td>North York</td>\n",
       "      <td>Parkwoods</td>\n",
       "    </tr>\n",
       "  </tbody>\n",
       "</table>\n",
       "</div>"
      ],
      "text/plain": [
       "  PostalCode       Borough Neighbourhood\n",
       "0        M1A  Not assigned  Not assigned\n",
       "1        M2A  Not assigned  Not assigned\n",
       "2        M3A    North York     Parkwoods"
      ]
     },
     "execution_count": 6,
     "metadata": {},
     "output_type": "execute_result"
    }
   ],
   "source": [
    "#Get the first table from the wiki page and print the first ten rows\n",
    "neighborhood_table=df[0]\n",
    "#Change column names \n",
    "neighborhood_table.rename(columns={\"Postal Code\":\"PostalCode\"}, inplace=True)\n",
    "neighborhood_table.head(3)\n"
   ]
  },
  {
   "cell_type": "code",
   "execution_count": 7,
   "metadata": {},
   "outputs": [],
   "source": [
    "#Drop rows where Borough is Not assigned\n",
    "neighborhood_table.drop(neighborhood_table[neighborhood_table.Borough=='Not assigned'].index, inplace=True)"
   ]
  },
  {
   "cell_type": "code",
   "execution_count": 8,
   "metadata": {},
   "outputs": [
    {
     "name": "stdout",
     "output_type": "stream",
     "text": [
      "103\n"
     ]
    },
    {
     "data": {
      "text/html": [
       "<div>\n",
       "<style scoped>\n",
       "    .dataframe tbody tr th:only-of-type {\n",
       "        vertical-align: middle;\n",
       "    }\n",
       "\n",
       "    .dataframe tbody tr th {\n",
       "        vertical-align: top;\n",
       "    }\n",
       "\n",
       "    .dataframe thead th {\n",
       "        text-align: right;\n",
       "    }\n",
       "</style>\n",
       "<table border=\"1\" class=\"dataframe\">\n",
       "  <thead>\n",
       "    <tr style=\"text-align: right;\">\n",
       "      <th></th>\n",
       "      <th>PostalCode</th>\n",
       "      <th>Borough</th>\n",
       "      <th>Neighbourhood</th>\n",
       "    </tr>\n",
       "  </thead>\n",
       "  <tbody>\n",
       "    <tr>\n",
       "      <th>0</th>\n",
       "      <td>M3A</td>\n",
       "      <td>North York</td>\n",
       "      <td>Parkwoods</td>\n",
       "    </tr>\n",
       "    <tr>\n",
       "      <th>1</th>\n",
       "      <td>M4A</td>\n",
       "      <td>North York</td>\n",
       "      <td>Victoria Village</td>\n",
       "    </tr>\n",
       "    <tr>\n",
       "      <th>2</th>\n",
       "      <td>M5A</td>\n",
       "      <td>Downtown Toronto</td>\n",
       "      <td>Regent Park, Harbourfront</td>\n",
       "    </tr>\n",
       "  </tbody>\n",
       "</table>\n",
       "</div>"
      ],
      "text/plain": [
       "  PostalCode           Borough              Neighbourhood\n",
       "0        M3A        North York                  Parkwoods\n",
       "1        M4A        North York           Victoria Village\n",
       "2        M5A  Downtown Toronto  Regent Park, Harbourfront"
      ]
     },
     "execution_count": 8,
     "metadata": {},
     "output_type": "execute_result"
    }
   ],
   "source": [
    "#Check the new dataframe\n",
    "print(len(neighborhood_table))\n",
    "neighborhood_table.reset_index(drop=True,inplace=True)\n",
    "neighborhood_table.head(3)"
   ]
  },
  {
   "cell_type": "code",
   "execution_count": 9,
   "metadata": {},
   "outputs": [
    {
     "data": {
      "text/plain": [
       "Int64Index([], dtype='int64')"
      ]
     },
     "execution_count": 9,
     "metadata": {},
     "output_type": "execute_result"
    }
   ],
   "source": [
    "neighborhood_table[neighborhood_table.Neighbourhood=='Not assigned'].index"
   ]
  },
  {
   "cell_type": "markdown",
   "metadata": {},
   "source": [
    "Quetions: If a cell has a borough but a Not assigned neighborhood, then the neighborhood will be the same as the borough.\n",
    "**There are no such row so not taking any actions**"
   ]
  },
  {
   "cell_type": "code",
   "execution_count": 10,
   "metadata": {},
   "outputs": [
    {
     "data": {
      "text/plain": [
       "(103, 3)"
      ]
     },
     "execution_count": 10,
     "metadata": {},
     "output_type": "execute_result"
    }
   ],
   "source": [
    "neighborhood_table.shape"
   ]
  },
  {
   "cell_type": "markdown",
   "metadata": {},
   "source": [
    "------------------------------\n"
   ]
  },
  {
   "cell_type": "markdown",
   "metadata": {},
   "source": [
    "### Step 2"
   ]
  },
  {
   "cell_type": "code",
   "execution_count": 11,
   "metadata": {},
   "outputs": [
    {
     "name": "stdout",
     "output_type": "stream",
     "text": [
      "None\n"
     ]
    },
    {
     "data": {
      "text/plain": [
       "<[REQUEST_DENIED] Google - Geocode [empty]>"
      ]
     },
     "execution_count": 11,
     "metadata": {},
     "output_type": "execute_result"
    }
   ],
   "source": [
    "import geocoder # import geocoder\n",
    "g = geocoder.google('Toronto, Ontario')\n",
    "print(g.latlng)\n",
    "g"
   ]
  },
  {
   "cell_type": "code",
   "execution_count": 10,
   "metadata": {},
   "outputs": [],
   "source": [
    "#Test geocoder \n",
    "#import geocoder # import geocoder\n",
    "\n",
    "# initialize your variable to None\n",
    "#lat_lng_coords = None\n",
    "\n",
    "# loop until you get the coordinates\n",
    "#while(lat_lng_coords is None):\n",
    "#  g = geocoder.google('{}, Toronto, Ontario'.format(postal_code))\n",
    "#  lat_lng_coords = g.latlng\n",
    "\n",
    "#latitude = lat_lng_coords[0]\n",
    "#longitude = lat_lng_coords[1]\n",
    "#print(\"latitude=\",latitude)\n",
    "#print(\"longitude=\",longitude)"
   ]
  },
  {
   "cell_type": "code",
   "execution_count": 11,
   "metadata": {},
   "outputs": [
    {
     "name": "stdout",
     "output_type": "stream",
     "text": [
      "Data downloaded!\n"
     ]
    }
   ],
   "source": [
    "#goecoder fails, using the cvs\n",
    "#coordinate_file=\"https://cocl.us/Geospatial_data\"\n",
    "#!wget -O 'coordinate.csv' coordinate_file https://ibm.box.com/shared/static/9afzr83pps4pwf2smjjcf1y5mvgb18rr.csv\n",
    "print('Data downloaded!')"
   ]
  },
  {
   "cell_type": "code",
   "execution_count": 12,
   "metadata": {},
   "outputs": [
    {
     "data": {
      "text/html": [
       "<div>\n",
       "<style scoped>\n",
       "    .dataframe tbody tr th:only-of-type {\n",
       "        vertical-align: middle;\n",
       "    }\n",
       "\n",
       "    .dataframe tbody tr th {\n",
       "        vertical-align: top;\n",
       "    }\n",
       "\n",
       "    .dataframe thead th {\n",
       "        text-align: right;\n",
       "    }\n",
       "</style>\n",
       "<table border=\"1\" class=\"dataframe\">\n",
       "  <thead>\n",
       "    <tr style=\"text-align: right;\">\n",
       "      <th></th>\n",
       "      <th>Postal Code</th>\n",
       "      <th>Latitude</th>\n",
       "      <th>Longitude</th>\n",
       "    </tr>\n",
       "  </thead>\n",
       "  <tbody>\n",
       "    <tr>\n",
       "      <th>0</th>\n",
       "      <td>M1B</td>\n",
       "      <td>43.806686</td>\n",
       "      <td>-79.194353</td>\n",
       "    </tr>\n",
       "    <tr>\n",
       "      <th>1</th>\n",
       "      <td>M1C</td>\n",
       "      <td>43.784535</td>\n",
       "      <td>-79.160497</td>\n",
       "    </tr>\n",
       "    <tr>\n",
       "      <th>2</th>\n",
       "      <td>M1E</td>\n",
       "      <td>43.763573</td>\n",
       "      <td>-79.188711</td>\n",
       "    </tr>\n",
       "  </tbody>\n",
       "</table>\n",
       "</div>"
      ],
      "text/plain": [
       "  Postal Code   Latitude  Longitude\n",
       "0         M1B  43.806686 -79.194353\n",
       "1         M1C  43.784535 -79.160497\n",
       "2         M1E  43.763573 -79.188711"
      ]
     },
     "execution_count": 12,
     "metadata": {},
     "output_type": "execute_result"
    }
   ],
   "source": [
    "coordinates = pd.read_csv(\"coordinate.csv\") \n",
    "coordinates.head(3)"
   ]
  },
  {
   "cell_type": "code",
   "execution_count": 13,
   "metadata": {},
   "outputs": [
    {
     "data": {
      "text/html": [
       "<div>\n",
       "<style scoped>\n",
       "    .dataframe tbody tr th:only-of-type {\n",
       "        vertical-align: middle;\n",
       "    }\n",
       "\n",
       "    .dataframe tbody tr th {\n",
       "        vertical-align: top;\n",
       "    }\n",
       "\n",
       "    .dataframe thead th {\n",
       "        text-align: right;\n",
       "    }\n",
       "</style>\n",
       "<table border=\"1\" class=\"dataframe\">\n",
       "  <thead>\n",
       "    <tr style=\"text-align: right;\">\n",
       "      <th></th>\n",
       "      <th>Latitude</th>\n",
       "      <th>Longitude</th>\n",
       "    </tr>\n",
       "    <tr>\n",
       "      <th>PostalCode</th>\n",
       "      <th></th>\n",
       "      <th></th>\n",
       "    </tr>\n",
       "  </thead>\n",
       "  <tbody>\n",
       "    <tr>\n",
       "      <th>M1B</th>\n",
       "      <td>43.806686</td>\n",
       "      <td>-79.194353</td>\n",
       "    </tr>\n",
       "    <tr>\n",
       "      <th>M1C</th>\n",
       "      <td>43.784535</td>\n",
       "      <td>-79.160497</td>\n",
       "    </tr>\n",
       "    <tr>\n",
       "      <th>M1E</th>\n",
       "      <td>43.763573</td>\n",
       "      <td>-79.188711</td>\n",
       "    </tr>\n",
       "    <tr>\n",
       "      <th>M1G</th>\n",
       "      <td>43.770992</td>\n",
       "      <td>-79.216917</td>\n",
       "    </tr>\n",
       "    <tr>\n",
       "      <th>M1H</th>\n",
       "      <td>43.773136</td>\n",
       "      <td>-79.239476</td>\n",
       "    </tr>\n",
       "    <tr>\n",
       "      <th>M1J</th>\n",
       "      <td>43.744734</td>\n",
       "      <td>-79.239476</td>\n",
       "    </tr>\n",
       "    <tr>\n",
       "      <th>M1K</th>\n",
       "      <td>43.727929</td>\n",
       "      <td>-79.262029</td>\n",
       "    </tr>\n",
       "    <tr>\n",
       "      <th>M1L</th>\n",
       "      <td>43.711112</td>\n",
       "      <td>-79.284577</td>\n",
       "    </tr>\n",
       "    <tr>\n",
       "      <th>M1M</th>\n",
       "      <td>43.716316</td>\n",
       "      <td>-79.239476</td>\n",
       "    </tr>\n",
       "    <tr>\n",
       "      <th>M1N</th>\n",
       "      <td>43.692657</td>\n",
       "      <td>-79.264848</td>\n",
       "    </tr>\n",
       "  </tbody>\n",
       "</table>\n",
       "</div>"
      ],
      "text/plain": [
       "             Latitude  Longitude\n",
       "PostalCode                      \n",
       "M1B         43.806686 -79.194353\n",
       "M1C         43.784535 -79.160497\n",
       "M1E         43.763573 -79.188711\n",
       "M1G         43.770992 -79.216917\n",
       "M1H         43.773136 -79.239476\n",
       "M1J         43.744734 -79.239476\n",
       "M1K         43.727929 -79.262029\n",
       "M1L         43.711112 -79.284577\n",
       "M1M         43.716316 -79.239476\n",
       "M1N         43.692657 -79.264848"
      ]
     },
     "execution_count": 13,
     "metadata": {},
     "output_type": "execute_result"
    }
   ],
   "source": [
    "coordinates.rename(columns={\"Postal Code\":\"PostalCode\"}, inplace=True)\n",
    "coordinates.set_index('PostalCode', inplace=True)\n",
    "coordinates.head(10)"
   ]
  },
  {
   "cell_type": "code",
   "execution_count": 29,
   "metadata": {},
   "outputs": [
    {
     "name": "stdout",
     "output_type": "stream",
     "text": [
      "Longitude= -79.19435340000001  Latitude= 43.806686299999996\n"
     ]
    }
   ],
   "source": [
    "pc1=\"M1B\"\n",
    "c_lati=coordinates.loc[pc1][0]\n",
    "c_long=coordinates.loc[pc1][1]\n",
    "\n",
    "#print(coordinates.loc[\"M1B\"][0])\n",
    "print(\"Longitude=\",c_long,\" Latitude=\",c_lati)\n",
    "\n"
   ]
  },
  {
   "cell_type": "code",
   "execution_count": 30,
   "metadata": {},
   "outputs": [
    {
     "data": {
      "text/html": [
       "<div>\n",
       "<style scoped>\n",
       "    .dataframe tbody tr th:only-of-type {\n",
       "        vertical-align: middle;\n",
       "    }\n",
       "\n",
       "    .dataframe tbody tr th {\n",
       "        vertical-align: top;\n",
       "    }\n",
       "\n",
       "    .dataframe thead th {\n",
       "        text-align: right;\n",
       "    }\n",
       "</style>\n",
       "<table border=\"1\" class=\"dataframe\">\n",
       "  <thead>\n",
       "    <tr style=\"text-align: right;\">\n",
       "      <th></th>\n",
       "      <th>PostalCode</th>\n",
       "      <th>Borough</th>\n",
       "      <th>Neighbourhood</th>\n",
       "      <th>Longitude</th>\n",
       "      <th>Latitude</th>\n",
       "    </tr>\n",
       "  </thead>\n",
       "  <tbody>\n",
       "    <tr>\n",
       "      <th>0</th>\n",
       "      <td>M3A</td>\n",
       "      <td>North York</td>\n",
       "      <td>Parkwoods</td>\n",
       "      <td>0</td>\n",
       "      <td>0</td>\n",
       "    </tr>\n",
       "    <tr>\n",
       "      <th>1</th>\n",
       "      <td>M4A</td>\n",
       "      <td>North York</td>\n",
       "      <td>Victoria Village</td>\n",
       "      <td>0</td>\n",
       "      <td>0</td>\n",
       "    </tr>\n",
       "    <tr>\n",
       "      <th>2</th>\n",
       "      <td>M5A</td>\n",
       "      <td>Downtown Toronto</td>\n",
       "      <td>Regent Park, Harbourfront</td>\n",
       "      <td>0</td>\n",
       "      <td>0</td>\n",
       "    </tr>\n",
       "    <tr>\n",
       "      <th>3</th>\n",
       "      <td>M6A</td>\n",
       "      <td>North York</td>\n",
       "      <td>Lawrence Manor, Lawrence Heights</td>\n",
       "      <td>0</td>\n",
       "      <td>0</td>\n",
       "    </tr>\n",
       "    <tr>\n",
       "      <th>4</th>\n",
       "      <td>M7A</td>\n",
       "      <td>Downtown Toronto</td>\n",
       "      <td>Queen's Park, Ontario Provincial Government</td>\n",
       "      <td>0</td>\n",
       "      <td>0</td>\n",
       "    </tr>\n",
       "    <tr>\n",
       "      <th>5</th>\n",
       "      <td>M9A</td>\n",
       "      <td>Etobicoke</td>\n",
       "      <td>Islington Avenue, Humber Valley Village</td>\n",
       "      <td>0</td>\n",
       "      <td>0</td>\n",
       "    </tr>\n",
       "    <tr>\n",
       "      <th>6</th>\n",
       "      <td>M1B</td>\n",
       "      <td>Scarborough</td>\n",
       "      <td>Malvern, Rouge</td>\n",
       "      <td>0</td>\n",
       "      <td>0</td>\n",
       "    </tr>\n",
       "    <tr>\n",
       "      <th>7</th>\n",
       "      <td>M3B</td>\n",
       "      <td>North York</td>\n",
       "      <td>Don Mills</td>\n",
       "      <td>0</td>\n",
       "      <td>0</td>\n",
       "    </tr>\n",
       "    <tr>\n",
       "      <th>8</th>\n",
       "      <td>M4B</td>\n",
       "      <td>East York</td>\n",
       "      <td>Parkview Hill, Woodbine Gardens</td>\n",
       "      <td>0</td>\n",
       "      <td>0</td>\n",
       "    </tr>\n",
       "    <tr>\n",
       "      <th>9</th>\n",
       "      <td>M5B</td>\n",
       "      <td>Downtown Toronto</td>\n",
       "      <td>Garden District, Ryerson</td>\n",
       "      <td>0</td>\n",
       "      <td>0</td>\n",
       "    </tr>\n",
       "  </tbody>\n",
       "</table>\n",
       "</div>"
      ],
      "text/plain": [
       "  PostalCode           Borough                                Neighbourhood  \\\n",
       "0        M3A        North York                                    Parkwoods   \n",
       "1        M4A        North York                             Victoria Village   \n",
       "2        M5A  Downtown Toronto                    Regent Park, Harbourfront   \n",
       "3        M6A        North York             Lawrence Manor, Lawrence Heights   \n",
       "4        M7A  Downtown Toronto  Queen's Park, Ontario Provincial Government   \n",
       "5        M9A         Etobicoke      Islington Avenue, Humber Valley Village   \n",
       "6        M1B       Scarborough                               Malvern, Rouge   \n",
       "7        M3B        North York                                    Don Mills   \n",
       "8        M4B         East York              Parkview Hill, Woodbine Gardens   \n",
       "9        M5B  Downtown Toronto                     Garden District, Ryerson   \n",
       "\n",
       "   Longitude  Latitude  \n",
       "0          0         0  \n",
       "1          0         0  \n",
       "2          0         0  \n",
       "3          0         0  \n",
       "4          0         0  \n",
       "5          0         0  \n",
       "6          0         0  \n",
       "7          0         0  \n",
       "8          0         0  \n",
       "9          0         0  "
      ]
     },
     "execution_count": 30,
     "metadata": {},
     "output_type": "execute_result"
    }
   ],
   "source": [
    "#neighborhood_table.drop(columns=['Longitude='], inplace=True)\n",
    "neighborhood_table['Longitude'] = 0\n",
    "neighborhood_table['Latitude'] = 0\n",
    "neighborhood_table.head(10)"
   ]
  },
  {
   "cell_type": "code",
   "execution_count": 16,
   "metadata": {},
   "outputs": [],
   "source": [
    "#neighborhood_table.loc[neighborhood_table['PostalCode'] == \"M7A\",'Longitude'] =1\n",
    "#neighborhood_table.head(10)\n",
    "#Test set value"
   ]
  },
  {
   "cell_type": "code",
   "execution_count": 31,
   "metadata": {},
   "outputs": [
    {
     "data": {
      "text/html": [
       "<div>\n",
       "<style scoped>\n",
       "    .dataframe tbody tr th:only-of-type {\n",
       "        vertical-align: middle;\n",
       "    }\n",
       "\n",
       "    .dataframe tbody tr th {\n",
       "        vertical-align: top;\n",
       "    }\n",
       "\n",
       "    .dataframe thead th {\n",
       "        text-align: right;\n",
       "    }\n",
       "</style>\n",
       "<table border=\"1\" class=\"dataframe\">\n",
       "  <thead>\n",
       "    <tr style=\"text-align: right;\">\n",
       "      <th></th>\n",
       "      <th>PostalCode</th>\n",
       "      <th>Borough</th>\n",
       "      <th>Neighbourhood</th>\n",
       "      <th>Longitude</th>\n",
       "      <th>Latitude</th>\n",
       "    </tr>\n",
       "  </thead>\n",
       "  <tbody>\n",
       "    <tr>\n",
       "      <th>0</th>\n",
       "      <td>M3A</td>\n",
       "      <td>North York</td>\n",
       "      <td>Parkwoods</td>\n",
       "      <td>-79.329656</td>\n",
       "      <td>43.753259</td>\n",
       "    </tr>\n",
       "    <tr>\n",
       "      <th>1</th>\n",
       "      <td>M4A</td>\n",
       "      <td>North York</td>\n",
       "      <td>Victoria Village</td>\n",
       "      <td>-79.315572</td>\n",
       "      <td>43.725882</td>\n",
       "    </tr>\n",
       "    <tr>\n",
       "      <th>2</th>\n",
       "      <td>M5A</td>\n",
       "      <td>Downtown Toronto</td>\n",
       "      <td>Regent Park, Harbourfront</td>\n",
       "      <td>-79.360636</td>\n",
       "      <td>43.654260</td>\n",
       "    </tr>\n",
       "    <tr>\n",
       "      <th>3</th>\n",
       "      <td>M6A</td>\n",
       "      <td>North York</td>\n",
       "      <td>Lawrence Manor, Lawrence Heights</td>\n",
       "      <td>-79.464763</td>\n",
       "      <td>43.718518</td>\n",
       "    </tr>\n",
       "    <tr>\n",
       "      <th>4</th>\n",
       "      <td>M7A</td>\n",
       "      <td>Downtown Toronto</td>\n",
       "      <td>Queen's Park, Ontario Provincial Government</td>\n",
       "      <td>-79.389494</td>\n",
       "      <td>43.662301</td>\n",
       "    </tr>\n",
       "    <tr>\n",
       "      <th>5</th>\n",
       "      <td>M9A</td>\n",
       "      <td>Etobicoke</td>\n",
       "      <td>Islington Avenue, Humber Valley Village</td>\n",
       "      <td>-79.532242</td>\n",
       "      <td>43.667856</td>\n",
       "    </tr>\n",
       "    <tr>\n",
       "      <th>6</th>\n",
       "      <td>M1B</td>\n",
       "      <td>Scarborough</td>\n",
       "      <td>Malvern, Rouge</td>\n",
       "      <td>-79.194353</td>\n",
       "      <td>43.806686</td>\n",
       "    </tr>\n",
       "    <tr>\n",
       "      <th>7</th>\n",
       "      <td>M3B</td>\n",
       "      <td>North York</td>\n",
       "      <td>Don Mills</td>\n",
       "      <td>-79.352188</td>\n",
       "      <td>43.745906</td>\n",
       "    </tr>\n",
       "    <tr>\n",
       "      <th>8</th>\n",
       "      <td>M4B</td>\n",
       "      <td>East York</td>\n",
       "      <td>Parkview Hill, Woodbine Gardens</td>\n",
       "      <td>-79.309937</td>\n",
       "      <td>43.706397</td>\n",
       "    </tr>\n",
       "    <tr>\n",
       "      <th>9</th>\n",
       "      <td>M5B</td>\n",
       "      <td>Downtown Toronto</td>\n",
       "      <td>Garden District, Ryerson</td>\n",
       "      <td>-79.378937</td>\n",
       "      <td>43.657162</td>\n",
       "    </tr>\n",
       "  </tbody>\n",
       "</table>\n",
       "</div>"
      ],
      "text/plain": [
       "  PostalCode           Borough                                Neighbourhood  \\\n",
       "0        M3A        North York                                    Parkwoods   \n",
       "1        M4A        North York                             Victoria Village   \n",
       "2        M5A  Downtown Toronto                    Regent Park, Harbourfront   \n",
       "3        M6A        North York             Lawrence Manor, Lawrence Heights   \n",
       "4        M7A  Downtown Toronto  Queen's Park, Ontario Provincial Government   \n",
       "5        M9A         Etobicoke      Islington Avenue, Humber Valley Village   \n",
       "6        M1B       Scarborough                               Malvern, Rouge   \n",
       "7        M3B        North York                                    Don Mills   \n",
       "8        M4B         East York              Parkview Hill, Woodbine Gardens   \n",
       "9        M5B  Downtown Toronto                     Garden District, Ryerson   \n",
       "\n",
       "   Longitude   Latitude  \n",
       "0 -79.329656  43.753259  \n",
       "1 -79.315572  43.725882  \n",
       "2 -79.360636  43.654260  \n",
       "3 -79.464763  43.718518  \n",
       "4 -79.389494  43.662301  \n",
       "5 -79.532242  43.667856  \n",
       "6 -79.194353  43.806686  \n",
       "7 -79.352188  43.745906  \n",
       "8 -79.309937  43.706397  \n",
       "9 -79.378937  43.657162  "
      ]
     },
     "execution_count": 31,
     "metadata": {},
     "output_type": "execute_result"
    }
   ],
   "source": [
    "for pc in (neighborhood_table[\"PostalCode\"]):\n",
    "    c_long=coordinates.loc[pc][1]\n",
    "    c_lati=coordinates.loc[pc][0]\n",
    "    neighborhood_table.loc[neighborhood_table['PostalCode'] == pc,'Longitude'] = c_long\n",
    "    neighborhood_table.loc[neighborhood_table['PostalCode'] == pc,'Latitude'] = c_lati\n",
    "    #print(pc,\"  Longitude=\",c_long,\" Latitude=\",c_lati)\n",
    "    \n",
    "neighborhood_table.head(10)"
   ]
  },
  {
   "cell_type": "code",
   "execution_count": 32,
   "metadata": {},
   "outputs": [
    {
     "data": {
      "text/html": [
       "<div>\n",
       "<style scoped>\n",
       "    .dataframe tbody tr th:only-of-type {\n",
       "        vertical-align: middle;\n",
       "    }\n",
       "\n",
       "    .dataframe tbody tr th {\n",
       "        vertical-align: top;\n",
       "    }\n",
       "\n",
       "    .dataframe thead th {\n",
       "        text-align: right;\n",
       "    }\n",
       "</style>\n",
       "<table border=\"1\" class=\"dataframe\">\n",
       "  <thead>\n",
       "    <tr style=\"text-align: right;\">\n",
       "      <th></th>\n",
       "      <th>PostalCode</th>\n",
       "      <th>Borough</th>\n",
       "      <th>Neighbourhood</th>\n",
       "      <th>Longitude</th>\n",
       "      <th>Latitude</th>\n",
       "    </tr>\n",
       "  </thead>\n",
       "  <tbody>\n",
       "    <tr>\n",
       "      <th>89</th>\n",
       "      <td>M9V</td>\n",
       "      <td>Etobicoke</td>\n",
       "      <td>South Steeles, Silverstone, Humbergate, Jamest...</td>\n",
       "      <td>-79.588437</td>\n",
       "      <td>43.739416</td>\n",
       "    </tr>\n",
       "  </tbody>\n",
       "</table>\n",
       "</div>"
      ],
      "text/plain": [
       "   PostalCode    Borough                                      Neighbourhood  \\\n",
       "89        M9V  Etobicoke  South Steeles, Silverstone, Humbergate, Jamest...   \n",
       "\n",
       "    Longitude   Latitude  \n",
       "89 -79.588437  43.739416  "
      ]
     },
     "execution_count": 32,
     "metadata": {},
     "output_type": "execute_result"
    }
   ],
   "source": [
    "tpc=\"M9V\"\n",
    "neighborhood_table.loc[neighborhood_table['PostalCode'] == tpc] \n"
   ]
  },
  {
   "cell_type": "markdown",
   "metadata": {},
   "source": [
    "---------------------"
   ]
  },
  {
   "cell_type": "markdown",
   "metadata": {},
   "source": [
    "### Step3"
   ]
  },
  {
   "cell_type": "code",
   "execution_count": 33,
   "metadata": {},
   "outputs": [
    {
     "name": "stdout",
     "output_type": "stream",
     "text": [
      "The dataframe has 10 boroughs and 103 neighborhoods.\n"
     ]
    }
   ],
   "source": [
    "print('The dataframe has {} boroughs and {} neighborhoods.'.format(\n",
    "        len(neighborhood_table['Borough'].unique()),\n",
    "        neighborhood_table.shape[0]\n",
    "    )\n",
    ")\n",
    "#neighborhood_table['Neighbourhood']"
   ]
  },
  {
   "cell_type": "code",
   "execution_count": 36,
   "metadata": {},
   "outputs": [
    {
     "data": {
      "text/html": [
       "<div style=\"width:100%;\"><div style=\"position:relative;width:100%;height:0;padding-bottom:60%;\"><span style=\"color:#565656\">Make this Notebook Trusted to load map: File -> Trust Notebook</span><iframe src=\"about:blank\" style=\"position:absolute;width:100%;height:100%;left:0;top:0;border:none !important;\" data-html=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 onload=\"this.contentDocument.open();this.contentDocument.write(atob(this.getAttribute('data-html')));this.contentDocument.close();\" allowfullscreen webkitallowfullscreen mozallowfullscreen></iframe></div></div>"
      ],
      "text/plain": [
       "<folium.folium.Map at 0x7faf4dab5a30>"
      ]
     },
     "execution_count": 36,
     "metadata": {},
     "output_type": "execute_result"
    }
   ],
   "source": [
    "# create map of New York using latitude and longitude values\n",
    "\n",
    "#Center at Etobicoke\n",
    "latitude  = \"43.739416\"\n",
    "longitude= \"-79.588437\"\n",
    "\n",
    "map_newyork = folium.Map(location=[latitude, longitude], zoom_start=10)\n",
    "\n",
    "# add markers to map\n",
    "for lat, lng, borough, neighborhood in zip(neighborhood_table['Latitude'], neighborhood_table['Longitude'], neighborhood_table['Borough'], neighborhood_table['Neighbourhood']):\n",
    "    label = '{}, {}'.format(neighborhood, borough)\n",
    "    label = folium.Popup(label, parse_html=True)\n",
    "    \n",
    "    folium.CircleMarker(\n",
    "        [lat, lng],\n",
    "        radius=5,\n",
    "        popup=label,\n",
    "        color='blue',\n",
    "        fill=True,\n",
    "        fill_color='#3186cc',\n",
    "        fill_opacity=0.7,\n",
    "        parse_html=False).add_to(map_newyork)  \n",
    "    \n",
    "map_newyork"
   ]
  },
  {
   "cell_type": "code",
   "execution_count": null,
   "metadata": {},
   "outputs": [],
   "source": []
  }
 ],
 "metadata": {
  "kernelspec": {
   "display_name": "Python 3",
   "language": "python",
   "name": "python3"
  },
  "language_info": {
   "codemirror_mode": {
    "name": "ipython",
    "version": 3
   },
   "file_extension": ".py",
   "mimetype": "text/x-python",
   "name": "python",
   "nbconvert_exporter": "python",
   "pygments_lexer": "ipython3",
   "version": "3.8.3"
  }
 },
 "nbformat": 4,
 "nbformat_minor": 4
}
